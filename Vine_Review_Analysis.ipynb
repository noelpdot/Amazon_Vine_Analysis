{
  "nbformat": 4,
  "nbformat_minor": 0,
  "metadata": {
    "colab": {
      "name": "Vine_Review_Analysis.ipynb",
      "provenance": []
    },
    "kernelspec": {
      "name": "python3",
      "display_name": "Python 3"
    }
  },
  "cells": [
    {
      "cell_type": "code",
      "metadata": {
        "colab": {
          "base_uri": "https://localhost:8080/"
        },
        "id": "P6mKOYECeNSg",
        "outputId": "41a68f51-e06e-4b1e-b390-c67509c6fb42"
      },
      "source": [
        "import os\r\n",
        "# Find the latest version of spark 2.0  from http://www-us.apache.org/dist/spark/ and enter as the spark version\r\n",
        "# For example:\r\n",
        "# spark_version = 'spark-3.0.0'\r\n",
        "spark_version = 'spark-3.0.1'\r\n",
        "os.environ['SPARK_VERSION']=spark_version\r\n",
        "\r\n",
        "# Install Spark and Java\r\n",
        "!apt-get update\r\n",
        "!apt-get install openjdk-11-jdk-headless -qq > /dev/null\r\n",
        "!wget -q http://www-us.apache.org/dist/spark/$SPARK_VERSION/$SPARK_VERSION-bin-hadoop2.7.tgz\r\n",
        "!tar xf $SPARK_VERSION-bin-hadoop2.7.tgz\r\n",
        "!pip install -q findspark\r\n",
        "\r\n",
        "# Set Environment Variables\r\n",
        "import os\r\n",
        "os.environ[\"JAVA_HOME\"] = \"/usr/lib/jvm/java-11-openjdk-amd64\"\r\n",
        "os.environ[\"SPARK_HOME\"] = f\"/content/{spark_version}-bin-hadoop2.7\"\r\n",
        "\r\n",
        "# Start a SparkSession\r\n",
        "import findspark\r\n",
        "findspark.init()"
      ],
      "execution_count": 1,
      "outputs": [
        {
          "output_type": "stream",
          "text": [
            "\r0% [Working]\r            \rGet:1 http://security.ubuntu.com/ubuntu bionic-security InRelease [88.7 kB]\n",
            "\r0% [Connecting to archive.ubuntu.com (91.189.88.142)] [1 InRelease 14.2 kB/88.7\r                                                                               \rIgn:2 https://developer.download.nvidia.com/compute/cuda/repos/ubuntu1804/x86_64  InRelease\n",
            "\r0% [Connecting to archive.ubuntu.com (91.189.88.142)] [1 InRelease 14.2 kB/88.7\r                                                                               \rHit:3 https://cloud.r-project.org/bin/linux/ubuntu bionic-cran40/ InRelease\n",
            "\r0% [Connecting to archive.ubuntu.com (91.189.88.142)] [1 InRelease 35.9 kB/88.7\r0% [3 InRelease gpgv 3,626 B] [Waiting for headers] [1 InRelease 35.9 kB/88.7 k\r                                                                               \rIgn:4 https://developer.download.nvidia.com/compute/machine-learning/repos/ubuntu1804/x86_64  InRelease\n",
            "\r0% [3 InRelease gpgv 3,626 B] [Waiting for headers] [1 InRelease 35.9 kB/88.7 k\r                                                                               \rHit:5 https://developer.download.nvidia.com/compute/cuda/repos/ubuntu1804/x86_64  Release\n",
            "\r0% [3 InRelease gpgv 3,626 B] [Waiting for headers] [1 InRelease 35.9 kB/88.7 k\r                                                                               \rHit:6 https://developer.download.nvidia.com/compute/machine-learning/repos/ubuntu1804/x86_64  Release\n",
            "\r0% [3 InRelease gpgv 3,626 B] [Waiting for headers] [1 InRelease 35.9 kB/88.7 k\r                                                                               \r0% [3 InRelease gpgv 3,626 B] [Waiting for headers] [Waiting for headers]\r                                                                         \rHit:7 http://archive.ubuntu.com/ubuntu bionic InRelease\n",
            "Hit:8 http://ppa.launchpad.net/c2d4u.team/c2d4u4.0+/ubuntu bionic InRelease\n",
            "Get:9 http://archive.ubuntu.com/ubuntu bionic-updates InRelease [88.7 kB]\n",
            "Hit:10 http://ppa.launchpad.net/graphics-drivers/ppa/ubuntu bionic InRelease\n",
            "Get:13 http://archive.ubuntu.com/ubuntu bionic-backports InRelease [74.6 kB]\n",
            "Fetched 252 kB in 2s (137 kB/s)\n",
            "Reading package lists... Done\n"
          ],
          "name": "stdout"
        }
      ]
    },
    {
      "cell_type": "code",
      "metadata": {
        "colab": {
          "base_uri": "https://localhost:8080/"
        },
        "id": "11Hroi15f3io",
        "outputId": "ebf99d7b-f531-4101-a230-6334c8e2ed70"
      },
      "source": [
        "# Download the Postgres driver that will allow Spark to interact with Postgres.\r\n",
        "!wget https://jdbc.postgresql.org/download/postgresql-42.2.16.jar"
      ],
      "execution_count": 2,
      "outputs": [
        {
          "output_type": "stream",
          "text": [
            "--2020-12-12 17:35:14--  https://jdbc.postgresql.org/download/postgresql-42.2.16.jar\n",
            "Resolving jdbc.postgresql.org (jdbc.postgresql.org)... 72.32.157.228, 2001:4800:3e1:1::228\n",
            "Connecting to jdbc.postgresql.org (jdbc.postgresql.org)|72.32.157.228|:443... connected.\n",
            "HTTP request sent, awaiting response... 200 OK\n",
            "Length: 1002883 (979K) [application/java-archive]\n",
            "Saving to: ‘postgresql-42.2.16.jar.2’\n",
            "\n",
            "postgresql-42.2.16. 100%[===================>] 979.38K  --.-KB/s    in 0.1s    \n",
            "\n",
            "2020-12-12 17:35:15 (8.87 MB/s) - ‘postgresql-42.2.16.jar.2’ saved [1002883/1002883]\n",
            "\n"
          ],
          "name": "stdout"
        }
      ]
    },
    {
      "cell_type": "code",
      "metadata": {
        "id": "w09n0LNdf4Vk"
      },
      "source": [
        "from pyspark.sql import SparkSession\r\n",
        "spark = SparkSession.builder.appName(\"BigData-Challenge\").config(\"spark.driver.extraClassPath\",\"/content/postgresql-42.2.16.jar\").getOrCreate()"
      ],
      "execution_count": 3,
      "outputs": []
    },
    {
      "cell_type": "code",
      "metadata": {
        "id": "mkIs9Gz66z8M"
      },
      "source": [
        "from pyspark import SparkFiles\r\n",
        "from pyspark.sql.functions import to_date\r\n",
        "url = \"https://s3.amazonaws.com/amazon-reviews-pds/tsv/amazon_reviews_us_Automotive_v1_00.tsv.gz\"\r\n",
        "spark.sparkContext.addFile(url)\r\n",
        "df = spark.read.option(\"encoding\", \"UTF-8\").csv(SparkFiles.get(\"\"), sep=\"\\t\", header=True, inferSchema=True)\r\n"
      ],
      "execution_count": 4,
      "outputs": []
    },
    {
      "cell_type": "code",
      "metadata": {
        "colab": {
          "base_uri": "https://localhost:8080/"
        },
        "id": "aBIYyZds68Wd",
        "outputId": "60309e18-8b97-4177-a94d-2a7e0e884ef5"
      },
      "source": [
        "# Create the vine_table. DataFrame\r\n",
        "from pyspark.sql.types import IntegerType\r\n",
        "vine_df = df.select(['review_id', 'star_rating', 'helpful_votes', 'total_votes', 'vine', 'verified_purchase'])\r\n",
        "vine_df.show(10)"
      ],
      "execution_count": 5,
      "outputs": [
        {
          "output_type": "stream",
          "text": [
            "+--------------+-----------+-------------+-----------+----+-----------------+\n",
            "|     review_id|star_rating|helpful_votes|total_votes|vine|verified_purchase|\n",
            "+--------------+-----------+-------------+-----------+----+-----------------+\n",
            "| RAB23OVFNCXZQ|          1|            0|          0|   N|                Y|\n",
            "|R3NORADVJO6IE6|          5|            0|          0|   N|                Y|\n",
            "|R299F4SO98S5OO|          5|            1|          1|   N|                Y|\n",
            "|R2DA9DOT03UW6I|          5|            2|          3|   N|                Y|\n",
            "|R2OGCH681EQHU6|          5|            0|          0|   N|                Y|\n",
            "| R2JMKIC16MHD7|          5|            2|          2|   N|                Y|\n",
            "|R1DB5DA7CWWTI8|          5|            0|          0|   N|                Y|\n",
            "|R1N8XWFDK4QACP|          5|            0|          0|   N|                Y|\n",
            "|R19VFLX6MRU0CX|          5|            0|          0|   N|                Y|\n",
            "| RLTD8YDGTP9PT|          1|            0|          0|   N|                Y|\n",
            "+--------------+-----------+-------------+-----------+----+-----------------+\n",
            "only showing top 10 rows\n",
            "\n"
          ],
          "name": "stdout"
        }
      ]
    },
    {
      "cell_type": "code",
      "metadata": {
        "colab": {
          "base_uri": "https://localhost:8080/"
        },
        "id": "kdPTkxTy8AfV",
        "outputId": "42df6be7-ac7f-4725-d984-2ed5c75628e7"
      },
      "source": [
        "# 1: Filtering data where total vote count > 0 \r\n",
        "step1_df = vine_df.filter(df.total_votes >= 20)\r\n",
        "step1_df.show(20)"
      ],
      "execution_count": 6,
      "outputs": [
        {
          "output_type": "stream",
          "text": [
            "+--------------+-----------+-------------+-----------+----+-----------------+\n",
            "|     review_id|star_rating|helpful_votes|total_votes|vine|verified_purchase|\n",
            "+--------------+-----------+-------------+-----------+----+-----------------+\n",
            "|R1T4FVSABO0IDP|          5|            8|         31|   N|                Y|\n",
            "|R397VXR1GAK6C9|          5|           21|         21|   N|                Y|\n",
            "|R2H6KB9RHS17GA|          3|           59|         69|   N|                Y|\n",
            "|R3HAK0MUN9F5IT|          1|            6|         28|   N|                Y|\n",
            "|R29UTZTOPUVRSV|          5|           21|         21|   N|                Y|\n",
            "| RY9FLUD8VG6XD|          4|           27|         32|   N|                Y|\n",
            "|R3Q5NAY8BGAKHI|          5|           34|         40|   N|                Y|\n",
            "| RRVJ7TYDEK7EO|          5|           30|         30|   N|                Y|\n",
            "|R2S4CHISQA2WDH|          5|           17|         20|   N|                Y|\n",
            "|R1JNALJ77OULPH|          4|           57|         65|   N|                Y|\n",
            "|R13YNG792BCR77|          5|           19|         20|   N|                Y|\n",
            "|R1RYG8MVOPK4Q2|          5|           18|         20|   N|                Y|\n",
            "|R2V9VX4YQ8TQ24|          5|           33|         36|   N|                Y|\n",
            "|R2UCJ0GANHZVA8|          5|           21|         21|   N|                Y|\n",
            "| R8MJZ3925MBK0|          5|           96|         98|   N|                Y|\n",
            "|R378YNR0LMM3DP|          2|           41|         47|   N|                Y|\n",
            "|R2UIEYEJPJC9EM|          5|           64|         70|   N|                N|\n",
            "| RX2K8ERZ5BENR|          5|           52|         56|   N|                Y|\n",
            "|R34VOML4JURU4E|          1|           34|         35|   N|                Y|\n",
            "|R21FPJN76XM6J8|          3|           43|         52|   N|                Y|\n",
            "+--------------+-----------+-------------+-----------+----+-----------------+\n",
            "only showing top 20 rows\n",
            "\n"
          ],
          "name": "stdout"
        }
      ]
    },
    {
      "cell_type": "code",
      "metadata": {
        "colab": {
          "base_uri": "https://localhost:8080/"
        },
        "id": "1uXJtROL9B8J",
        "outputId": "b34cdd3f-694f-4a3b-bf38-6af26d384e7b"
      },
      "source": [
        "#2 : fitler STEP1- to analyse helful votes divided by total votes > 50%\r\n",
        "step2_df = step1_df.filter(step1_df.helpful_votes / step1_df.total_votes >= 0.5)\r\n",
        "step2_df.show(20)"
      ],
      "execution_count": 7,
      "outputs": [
        {
          "output_type": "stream",
          "text": [
            "+--------------+-----------+-------------+-----------+----+-----------------+\n",
            "|     review_id|star_rating|helpful_votes|total_votes|vine|verified_purchase|\n",
            "+--------------+-----------+-------------+-----------+----+-----------------+\n",
            "|R397VXR1GAK6C9|          5|           21|         21|   N|                Y|\n",
            "|R2H6KB9RHS17GA|          3|           59|         69|   N|                Y|\n",
            "|R29UTZTOPUVRSV|          5|           21|         21|   N|                Y|\n",
            "| RY9FLUD8VG6XD|          4|           27|         32|   N|                Y|\n",
            "|R3Q5NAY8BGAKHI|          5|           34|         40|   N|                Y|\n",
            "| RRVJ7TYDEK7EO|          5|           30|         30|   N|                Y|\n",
            "|R2S4CHISQA2WDH|          5|           17|         20|   N|                Y|\n",
            "|R1JNALJ77OULPH|          4|           57|         65|   N|                Y|\n",
            "|R13YNG792BCR77|          5|           19|         20|   N|                Y|\n",
            "|R1RYG8MVOPK4Q2|          5|           18|         20|   N|                Y|\n",
            "|R2V9VX4YQ8TQ24|          5|           33|         36|   N|                Y|\n",
            "|R2UCJ0GANHZVA8|          5|           21|         21|   N|                Y|\n",
            "| R8MJZ3925MBK0|          5|           96|         98|   N|                Y|\n",
            "|R378YNR0LMM3DP|          2|           41|         47|   N|                Y|\n",
            "|R2UIEYEJPJC9EM|          5|           64|         70|   N|                N|\n",
            "| RX2K8ERZ5BENR|          5|           52|         56|   N|                Y|\n",
            "|R34VOML4JURU4E|          1|           34|         35|   N|                Y|\n",
            "|R21FPJN76XM6J8|          3|           43|         52|   N|                Y|\n",
            "|R1YMR7QJ7OR3DE|          1|           21|         22|   N|                Y|\n",
            "|R104OMNNT1A7HJ|          5|           20|         24|   N|                Y|\n",
            "+--------------+-----------+-------------+-----------+----+-----------------+\n",
            "only showing top 20 rows\n",
            "\n"
          ],
          "name": "stdout"
        }
      ]
    },
    {
      "cell_type": "code",
      "metadata": {
        "colab": {
          "base_uri": "https://localhost:8080/"
        },
        "id": "CWDiY8_cB-Ue",
        "outputId": "1f744158-43d4-43ff-f1a3-acddc148397d"
      },
      "source": [
        "#3: filter step 2 - paid program on vine\r\n",
        "step3_df = step2_df.filter(step2_df.vine == 'Y')\r\n",
        "step3_df.show(20)"
      ],
      "execution_count": 8,
      "outputs": [
        {
          "output_type": "stream",
          "text": [
            "+--------------+-----------+-------------+-----------+----+-----------------+\n",
            "|     review_id|star_rating|helpful_votes|total_votes|vine|verified_purchase|\n",
            "+--------------+-----------+-------------+-----------+----+-----------------+\n",
            "| REKN4PLM5174P|          4|          219|        225|   Y|                N|\n",
            "| RQOG8IIJX7CKB|          4|           21|         27|   Y|                N|\n",
            "|R33EJ9PSZR13CM|          4|           26|         30|   Y|                N|\n",
            "| RD2BFV896F321|          5|           16|         20|   Y|                N|\n",
            "|R37GSXLA11XF8N|          5|           30|         34|   Y|                N|\n",
            "| RQBQYBM9VMSH4|          5|           19|         20|   Y|                N|\n",
            "|R2YE4F9ESKFWEK|          3|           20|         23|   Y|                N|\n",
            "|R1E4L7HHB8TBP9|          4|           80|         92|   Y|                N|\n",
            "|R2C2WXDXMZL005|          2|           20|         25|   Y|                N|\n",
            "|R1PPY4U0K03KTE|          5|           31|         38|   Y|                N|\n",
            "|R12SMR88Q45MWQ|          3|           23|         24|   Y|                N|\n",
            "|R188VWFDBDWRR0|          4|           35|         38|   Y|                N|\n",
            "| RUE8J5M74KJUP|          1|           37|         42|   Y|                N|\n",
            "|R3IMZIN7Y64IP1|          1|           19|         23|   Y|                N|\n",
            "|R17RGR2YSZ5UDG|          4|           19|         24|   Y|                N|\n",
            "|R2SBNSIBLPIIG6|          4|           47|         53|   Y|                N|\n",
            "|R197MLUGNBO8SK|          5|           24|         29|   Y|                N|\n",
            "|R21QBM40D91D00|          3|           18|         25|   Y|                N|\n",
            "|R1Z5U87WQ4LVJG|          4|           89|        101|   Y|                N|\n",
            "| RAT9CVRLRHXQZ|          5|           50|         54|   Y|                N|\n",
            "+--------------+-----------+-------------+-----------+----+-----------------+\n",
            "only showing top 20 rows\n",
            "\n"
          ],
          "name": "stdout"
        }
      ]
    },
    {
      "cell_type": "code",
      "metadata": {
        "colab": {
          "base_uri": "https://localhost:8080/"
        },
        "id": "JdThIQT0Cfjp",
        "outputId": "826e4d32-99d1-4f8a-b62b-d7536dac9882"
      },
      "source": [
        "#4 filter step 2: non-paid program on vine\r\n",
        "step4_df = step2_df.filter(step2_df.vine == 'N')\r\n",
        "step4_df.show(20)"
      ],
      "execution_count": 9,
      "outputs": [
        {
          "output_type": "stream",
          "text": [
            "+--------------+-----------+-------------+-----------+----+-----------------+\n",
            "|     review_id|star_rating|helpful_votes|total_votes|vine|verified_purchase|\n",
            "+--------------+-----------+-------------+-----------+----+-----------------+\n",
            "|R397VXR1GAK6C9|          5|           21|         21|   N|                Y|\n",
            "|R2H6KB9RHS17GA|          3|           59|         69|   N|                Y|\n",
            "|R29UTZTOPUVRSV|          5|           21|         21|   N|                Y|\n",
            "| RY9FLUD8VG6XD|          4|           27|         32|   N|                Y|\n",
            "|R3Q5NAY8BGAKHI|          5|           34|         40|   N|                Y|\n",
            "| RRVJ7TYDEK7EO|          5|           30|         30|   N|                Y|\n",
            "|R2S4CHISQA2WDH|          5|           17|         20|   N|                Y|\n",
            "|R1JNALJ77OULPH|          4|           57|         65|   N|                Y|\n",
            "|R13YNG792BCR77|          5|           19|         20|   N|                Y|\n",
            "|R1RYG8MVOPK4Q2|          5|           18|         20|   N|                Y|\n",
            "|R2V9VX4YQ8TQ24|          5|           33|         36|   N|                Y|\n",
            "|R2UCJ0GANHZVA8|          5|           21|         21|   N|                Y|\n",
            "| R8MJZ3925MBK0|          5|           96|         98|   N|                Y|\n",
            "|R378YNR0LMM3DP|          2|           41|         47|   N|                Y|\n",
            "|R2UIEYEJPJC9EM|          5|           64|         70|   N|                N|\n",
            "| RX2K8ERZ5BENR|          5|           52|         56|   N|                Y|\n",
            "|R34VOML4JURU4E|          1|           34|         35|   N|                Y|\n",
            "|R21FPJN76XM6J8|          3|           43|         52|   N|                Y|\n",
            "|R1YMR7QJ7OR3DE|          1|           21|         22|   N|                Y|\n",
            "|R104OMNNT1A7HJ|          5|           20|         24|   N|                Y|\n",
            "+--------------+-----------+-------------+-----------+----+-----------------+\n",
            "only showing top 20 rows\n",
            "\n"
          ],
          "name": "stdout"
        }
      ]
    },
    {
      "cell_type": "code",
      "metadata": {
        "colab": {
          "base_uri": "https://localhost:8080/"
        },
        "id": "BEWUA1RJEvM_",
        "outputId": "129416d0-0171-4637-cd46-d23ca5e46652"
      },
      "source": [
        "# STEP 5\r\n",
        "# Total reviews (PAID)\r\n",
        "total_paid_reviews = step3_df.count()\r\n",
        "total_paid_reviews"
      ],
      "execution_count": 10,
      "outputs": [
        {
          "output_type": "execute_result",
          "data": {
            "text/plain": [
              "82"
            ]
          },
          "metadata": {
            "tags": []
          },
          "execution_count": 10
        }
      ]
    },
    {
      "cell_type": "code",
      "metadata": {
        "colab": {
          "base_uri": "https://localhost:8080/"
        },
        "id": "So09nZoD-Heb",
        "outputId": "d8538db0-b0f7-4583-b71f-119d59af85b5"
      },
      "source": [
        "# Total 5 star reviews (PAID)\r\n",
        "total_5_star_reviews_paid = step3_df.filter(step3_df.star_rating == 5).count()\r\n",
        "total_5_star_reviews_paid"
      ],
      "execution_count": 11,
      "outputs": [
        {
          "output_type": "execute_result",
          "data": {
            "text/plain": [
              "33"
            ]
          },
          "metadata": {
            "tags": []
          },
          "execution_count": 11
        }
      ]
    },
    {
      "cell_type": "code",
      "metadata": {
        "colab": {
          "base_uri": "https://localhost:8080/"
        },
        "id": "vy4pBTbf-Qrv",
        "outputId": "51ceceb2-b638-4ed5-9cb7-19f468f02912"
      },
      "source": [
        "# Percentage of 5-star reviews (PAID)\r\n",
        "percentage_paid_reviews = total_5_star_reviews_paid / total_paid_reviews * 100\r\n",
        "percentage_paid_reviews = round(percentage_paid_reviews,2)\r\n",
        "percentage_paid_reviews"
      ],
      "execution_count": 12,
      "outputs": [
        {
          "output_type": "execute_result",
          "data": {
            "text/plain": [
              "40.24"
            ]
          },
          "metadata": {
            "tags": []
          },
          "execution_count": 12
        }
      ]
    },
    {
      "cell_type": "code",
      "metadata": {
        "colab": {
          "base_uri": "https://localhost:8080/"
        },
        "id": "kVNxpc3W5MQR",
        "outputId": "1a8d52ed-ffb2-46d9-921b-cac70b674935"
      },
      "source": [
        "# Total reviews (UNPAID)\r\n",
        "total_unpaid_reviews = step4_df.count()\r\n",
        "total_unpaid_reviews"
      ],
      "execution_count": 13,
      "outputs": [
        {
          "output_type": "execute_result",
          "data": {
            "text/plain": [
              "24742"
            ]
          },
          "metadata": {
            "tags": []
          },
          "execution_count": 13
        }
      ]
    },
    {
      "cell_type": "code",
      "metadata": {
        "colab": {
          "base_uri": "https://localhost:8080/"
        },
        "id": "N4Hr9QyS7VpK",
        "outputId": "859dcbc2-4a76-4992-fead-34269de3b11d"
      },
      "source": [
        "# Total 5 star reviews (UNPAID)\r\n",
        "total_5_star_reviews_unpaid = step4_df.filter(step4_df.star_rating == 5).count()\r\n",
        "total_5_star_reviews_unpaid"
      ],
      "execution_count": 14,
      "outputs": [
        {
          "output_type": "execute_result",
          "data": {
            "text/plain": [
              "12807"
            ]
          },
          "metadata": {
            "tags": []
          },
          "execution_count": 14
        }
      ]
    },
    {
      "cell_type": "code",
      "metadata": {
        "colab": {
          "base_uri": "https://localhost:8080/"
        },
        "id": "3uzkfrp69Mvc",
        "outputId": "17f206c3-0162-4453-d27a-5cc735d2790a"
      },
      "source": [
        "# Percentage of 5-star reviews (UNPAID)\r\n",
        "percentage_unpaid_reviews = total_5_star_reviews_unpaid / total_unpaid_reviews * 100\r\n",
        "percentage_unpaid_reviews = round(percentage_unpaid_reviews,2)\r\n",
        "percentage_unpaid_reviews"
      ],
      "execution_count": 15,
      "outputs": [
        {
          "output_type": "execute_result",
          "data": {
            "text/plain": [
              "51.76"
            ]
          },
          "metadata": {
            "tags": []
          },
          "execution_count": 15
        }
      ]
    },
    {
      "cell_type": "code",
      "metadata": {
        "colab": {
          "base_uri": "https://localhost:8080/"
        },
        "id": "KGacR2YU-Zjb",
        "outputId": "9836761b-4b7f-406f-9cb1-042d34704c1f"
      },
      "source": [
        "# Creating a DataFrame for Above Results\r\n",
        "# Create DataFrame with results \r\n",
        "final_df = spark.createDataFrame([\r\n",
        "                                   (\"Vine\", total_paid_reviews, total_5_star_reviews_paid, percentage_paid_reviews),\r\n",
        "                                   (\"Non-Vine\", total_unpaid_reviews, total_5_star_reviews_unpaid, percentage_unpaid_reviews),], \r\n",
        "                                 [\"Review Type\", \"Total Reviews\", \"Total 5-star Rating Reviews\", \"% of 5-star Reviews\"])\r\n",
        "\r\n",
        "final_df.show()"
      ],
      "execution_count": 17,
      "outputs": [
        {
          "output_type": "stream",
          "text": [
            "+-----------+-------------+---------------------------+-------------------+\n",
            "|Review Type|Total Reviews|Total 5-star Rating Reviews|% of 5-star Reviews|\n",
            "+-----------+-------------+---------------------------+-------------------+\n",
            "|       Vine|           82|                         33|              40.24|\n",
            "|   Non-Vine|        24742|                      12807|              51.76|\n",
            "+-----------+-------------+---------------------------+-------------------+\n",
            "\n"
          ],
          "name": "stdout"
        }
      ]
    }
  ]
}